{
 "cells": [
  {
   "cell_type": "code",
   "execution_count": 1,
   "id": "f2911cf0-144c-4e07-9ee9-3a64020804ed",
   "metadata": {},
   "outputs": [],
   "source": [
    "    #!/usr/bin/env python"
   ]
  },
  {
   "cell_type": "code",
   "execution_count": 2,
   "id": "f104a3da-cc13-4622-9080-1c44d9e444b0",
   "metadata": {},
   "outputs": [],
   "source": [
    "# -*- coding: utf-8 -*-"
   ]
  },
  {
   "cell_type": "code",
   "execution_count": 3,
   "id": "d199f756-0f27-479a-81c6-5a24a4ed6da4",
   "metadata": {},
   "outputs": [],
   "source": [
    "from collections import Counter"
   ]
  },
  {
   "cell_type": "code",
   "execution_count": 4,
   "id": "2d8f2f61-d52c-4e44-8ad5-5a6cc9b12c46",
   "metadata": {},
   "outputs": [],
   "source": [
    "from collections import defaultdict"
   ]
  },
  {
   "cell_type": "code",
   "execution_count": 5,
   "id": "690e738f-a248-4cd3-96b7-86b3ce279224",
   "metadata": {},
   "outputs": [],
   "source": [
    "import json"
   ]
  },
  {
   "cell_type": "code",
   "execution_count": 6,
   "id": "f76dd03b-e400-42b0-950f-177fb7086f73",
   "metadata": {},
   "outputs": [],
   "source": [
    "import string"
   ]
  },
  {
   "cell_type": "code",
   "execution_count": 7,
   "id": "487323c6-34d9-45e8-81eb-14c2168c225c",
   "metadata": {},
   "outputs": [],
   "source": [
    "import gensim"
   ]
  },
  {
   "cell_type": "code",
   "execution_count": 8,
   "id": "3f4caeab-ff40-4f3c-aba5-ce4abc6b84c2",
   "metadata": {},
   "outputs": [],
   "source": [
    "import nltk"
   ]
  },
  {
   "cell_type": "code",
   "execution_count": 9,
   "id": "6c0f83c8-b98a-4ede-9c7b-d165f3f88f83",
   "metadata": {},
   "outputs": [],
   "source": [
    "import pandas as pd"
   ]
  },
  {
   "cell_type": "code",
   "execution_count": 10,
   "id": "e3061812-47a0-4433-baae-5f9441f03cff",
   "metadata": {},
   "outputs": [],
   "source": [
    "from gensim.models import Word2Vec"
   ]
  },
  {
   "cell_type": "code",
   "execution_count": 11,
   "id": "667c21fd-1e7c-45f6-808a-fd576fa6fe80",
   "metadata": {},
   "outputs": [],
   "source": [
    "from nltk.corpus import abc"
   ]
  },
  {
   "cell_type": "code",
   "execution_count": 12,
   "id": "fb2c6cba",
   "metadata": {},
   "outputs": [],
   "source": [
    "from nltk.corpus import stopwords"
   ]
  },
  {
   "cell_type": "code",
   "execution_count": 13,
   "id": "e13487a7-e9a7-49be-98ce-f3a822192a88",
   "metadata": {},
   "outputs": [],
   "source": [
    "from nltk.corpus import wordnet as wn"
   ]
  },
  {
   "cell_type": "code",
   "execution_count": 14,
   "id": "15b28a82-1955-4d5d-9c53-3d4c96eb7aa8",
   "metadata": {},
   "outputs": [],
   "source": [
    "from nltk import pos_tag"
   ]
  },
  {
   "cell_type": "code",
   "execution_count": 15,
   "id": "155b2eab-d068-4eab-a8a8-82630a3c1f5f",
   "metadata": {},
   "outputs": [],
   "source": [
    "from nltk import RegexpParser"
   ]
  },
  {
   "cell_type": "code",
   "execution_count": 16,
   "id": "2ca6ddee-ad2a-4cbe-bc60-88af65c5c8d6",
   "metadata": {},
   "outputs": [],
   "source": [
    "from nltk.stem import PorterStemmer"
   ]
  },
  {
   "cell_type": "code",
   "execution_count": 17,
   "id": "e1bfd278-00b8-4785-bb4b-7472cc6abe8f",
   "metadata": {},
   "outputs": [],
   "source": [
    "from nltk.stem import \tWordNetLemmatizer"
   ]
  },
  {
   "cell_type": "code",
   "execution_count": 18,
   "id": "f5de44e7-2e01-4b7c-97ff-650e1466219b",
   "metadata": {},
   "outputs": [],
   "source": [
    "from nltk.tokenize import RegexpTokenizer"
   ]
  },
  {
   "cell_type": "code",
   "execution_count": 19,
   "id": "9a3a3826-20e1-4145-ae4d-f457ffe6baa4",
   "metadata": {},
   "outputs": [],
   "source": [
    "from nltk.tokenize import word_tokenize"
   ]
  },
  {
   "cell_type": "code",
   "execution_count": 20,
   "id": "8a309763-45b6-4083-a04f-2df32e546e06",
   "metadata": {},
   "outputs": [],
   "source": [
    "from nltk.tokenize import sent_tokenize"
   ]
  },
  {
   "cell_type": "code",
   "execution_count": 21,
   "id": "999aa606-090a-4e31-9d2a-dfa810f1493e",
   "metadata": {},
   "outputs": [],
   "source": [
    "from sklearn.feature_extraction.text import CountVectorizer"
   ]
  },
  {
   "cell_type": "code",
   "execution_count": 22,
   "id": "c6c1f9cf-7c3a-41d6-8614-eed1125ec63b",
   "metadata": {},
   "outputs": [],
   "source": [
    "from textblob import Word"
   ]
  },
  {
   "cell_type": "code",
   "execution_count": 23,
   "id": "652a1e30-d301-4c59-9dc1-d3a4e8c77fcf",
   "metadata": {},
   "outputs": [],
   "source": [
    "# import python_libs"
   ]
  },
  {
   "cell_type": "code",
   "execution_count": 24,
   "id": "94517b76-b3ad-46fc-b8ad-59b7039b70a4",
   "metadata": {},
   "outputs": [
    {
     "name": "stderr",
     "output_type": "stream",
     "text": [
      "[nltk_data] Downloading package stopwords to /home/vik/nltk_data...\n",
      "[nltk_data]   Package stopwords is already up-to-date!\n"
     ]
    },
    {
     "data": {
      "text/plain": [
       "True"
      ]
     },
     "execution_count": 24,
     "metadata": {},
     "output_type": "execute_result"
    }
   ],
   "source": [
    "nltk.download('stopwords')"
   ]
  },
  {
   "cell_type": "code",
   "execution_count": 25,
   "id": "b69e027d-9fe2-4cd0-bef4-5aaae9e2c601",
   "metadata": {},
   "outputs": [],
   "source": [
    "# download nltk parameters"
   ]
  },
  {
   "cell_type": "code",
   "execution_count": 26,
   "id": "be9f142a-924e-4d09-94e3-a2c2d38a6c7d",
   "metadata": {},
   "outputs": [
    {
     "name": "stderr",
     "output_type": "stream",
     "text": [
      "[nltk_data] Downloading package punkt to /home/vik/nltk_data...\n",
      "[nltk_data]   Package punkt is already up-to-date!\n"
     ]
    },
    {
     "data": {
      "text/plain": [
       "True"
      ]
     },
     "execution_count": 26,
     "metadata": {},
     "output_type": "execute_result"
    }
   ],
   "source": [
    "nltk.download('punkt')"
   ]
  },
  {
   "cell_type": "code",
   "execution_count": 27,
   "id": "e28ab876-0c4f-48cb-8179-4df65702ceea",
   "metadata": {},
   "outputs": [],
   "source": [
    "# download nltk parameters"
   ]
  },
  {
   "cell_type": "code",
   "execution_count": 28,
   "id": "720240a9-7e48-443b-bd92-54823c5d840a",
   "metadata": {},
   "outputs": [],
   "source": [
    "TEXT = (\"Python99 is the site where you can find the best tutorials for Software Testing.\"\n",
    "    \"Tutorial, Courses for Beginners.\"\n",
    "    \"Python Tutorial for Beginners and much more.\")"
   ]
  },
  {
   "cell_type": "code",
   "execution_count": 29,
   "id": "de2f287f-44a8-40c6-91a0-b2d8466ff97c",
   "metadata": {},
   "outputs": [],
   "source": [
    "# base text"
   ]
  },
  {
   "cell_type": "code",
   "execution_count": 30,
   "id": "46449162-48d4-41e6-8100-2fb2afa7e899",
   "metadata": {},
   "outputs": [],
   "source": [
    "tokens = word_tokenize(TEXT)"
   ]
  },
  {
   "cell_type": "code",
   "execution_count": 31,
   "id": "03cd4b09-b7a9-4833-8480-f6b050f20aab",
   "metadata": {},
   "outputs": [],
   "source": [
    "# word_tokenize()"
   ]
  },
  {
   "cell_type": "code",
   "execution_count": 32,
   "id": "d0d792dd-07c3-4c30-b197-c7544d89ce89",
   "metadata": {},
   "outputs": [],
   "source": [
    "tokenization = [word for word in tokens if not word in stopwords.words('english')]"
   ]
  },
  {
   "cell_type": "code",
   "execution_count": 33,
   "id": "2579acf0-73aa-4f30-adad-e0ef6501fcf5",
   "metadata": {},
   "outputs": [],
   "source": [
    "# tokenization"
   ]
  },
  {
   "cell_type": "code",
   "execution_count": 34,
   "id": "d0726438-c23a-4381-8928-9bfa7bcc55d0",
   "metadata": {},
   "outputs": [
    {
     "name": "stdout",
     "output_type": "stream",
     "text": [
      "['Python99', 'is', 'the', 'site', 'where', 'you', 'can', 'find', 'the', 'best', 'tutorials', 'for', 'Software', 'Testing.Tutorial', ',', 'Courses', 'for', 'Beginners.Python', 'Tutorial', 'for', 'Beginners', 'and', 'much', 'more', '.']\n"
     ]
    }
   ],
   "source": [
    "print(tokens)"
   ]
  },
  {
   "cell_type": "code",
   "execution_count": 35,
   "id": "158936bd-1f1d-499e-a7c9-8ab5ad9609eb",
   "metadata": {},
   "outputs": [],
   "source": [
    "# word_tokenize()"
   ]
  },
  {
   "cell_type": "code",
   "execution_count": 36,
   "id": "d986b109-a745-4e2d-b52c-46ecbd58e38e",
   "metadata": {},
   "outputs": [
    {
     "name": "stdout",
     "output_type": "stream",
     "text": [
      "['Python99', 'site', 'find', 'best', 'tutorials', 'Software', 'Testing.Tutorial', ',', 'Courses', 'Beginners.Python', 'Tutorial', 'Beginners', 'much', '.']\n"
     ]
    }
   ],
   "source": [
    "print(tokenization)"
   ]
  },
  {
   "cell_type": "code",
   "execution_count": 37,
   "id": "d273502a-2b4b-4a2d-8575-fef3632ef749",
   "metadata": {},
   "outputs": [],
   "source": [
    "# tokenization"
   ]
  },
  {
   "cell_type": "code",
   "execution_count": 38,
   "id": "58f7d700-fbfd-4d60-8bea-59655a5f11bb",
   "metadata": {},
   "outputs": [],
   "source": [
    "tokenizer = RegexpTokenizer(r'\\w+')"
   ]
  },
  {
   "cell_type": "code",
   "execution_count": 39,
   "id": "9064254f-176f-444e-8562-68ce3f6446ce",
   "metadata": {},
   "outputs": [],
   "source": [
    "# tokenizer"
   ]
  },
  {
   "cell_type": "code",
   "execution_count": 40,
   "id": "17c9bb19-c6b6-4668-9a72-6c6eacee9721",
   "metadata": {},
   "outputs": [],
   "source": [
    "filterdText = tokenizer.tokenize(\"Python99 is the site where you can find the best tutorials for Software Testing.\")"
   ]
  },
  {
   "cell_type": "code",
   "execution_count": 41,
   "id": "ed0ff563-81d5-4ec3-a5c3-76417f1a8001",
   "metadata": {},
   "outputs": [],
   "source": [
    "# filterdText"
   ]
  },
  {
   "cell_type": "code",
   "execution_count": 42,
   "id": "fbd1c308-7e76-4882-ba4f-252568d016d1",
   "metadata": {},
   "outputs": [
    {
     "name": "stdout",
     "output_type": "stream",
     "text": [
      "['Python99', 'is', 'the', 'site', 'where', 'you', 'can', 'find', 'the', 'best', 'tutorials', 'for', 'Software', 'Testing']\n"
     ]
    }
   ],
   "source": [
    "print(filterdText)"
   ]
  },
  {
   "cell_type": "code",
   "execution_count": 43,
   "id": "c3098ca4-ac4b-4ac3-921c-87b72255815f",
   "metadata": {},
   "outputs": [],
   "source": [
    "# filterdText"
   ]
  },
  {
   "cell_type": "code",
   "execution_count": 44,
   "id": "4ccbfdac-604c-42fa-8120-2cd9be063cae",
   "metadata": {},
   "outputs": [],
   "source": [
    "TEXT = \"Tutorial, Courses for Beginners.\""
   ]
  },
  {
   "cell_type": "code",
   "execution_count": 45,
   "id": "dba84e6f-b23b-4fcb-8854-b3b4ea5ba016",
   "metadata": {},
   "outputs": [],
   "source": [
    "# text"
   ]
  },
  {
   "cell_type": "code",
   "execution_count": 46,
   "id": "439d94d7-0e5e-4362-a875-9a9aba688cf6",
   "metadata": {},
   "outputs": [
    {
     "name": "stdout",
     "output_type": "stream",
     "text": [
      "['Tutorial', ',', 'Courses', 'for', 'Beginners', '.']\n"
     ]
    }
   ],
   "source": [
    "print(word_tokenize(TEXT))"
   ]
  },
  {
   "cell_type": "code",
   "execution_count": 47,
   "id": "44edb049-bcb7-4311-a26c-77b8d773a990",
   "metadata": {},
   "outputs": [],
   "source": [
    "# word_tokenize()"
   ]
  },
  {
   "cell_type": "code",
   "execution_count": 48,
   "id": "f44fb9b6-4933-43ca-8209-00604afb1021",
   "metadata": {},
   "outputs": [],
   "source": [
    "TEXT = \"Python Tutorial for Beginners and much more.\""
   ]
  },
  {
   "cell_type": "code",
   "execution_count": 49,
   "id": "a1c0a9de-6793-40b3-9ef4-fb72dee7216c",
   "metadata": {},
   "outputs": [],
   "source": [
    "# text"
   ]
  },
  {
   "cell_type": "code",
   "execution_count": 50,
   "id": "1b644432-3089-4383-9923-4133ac05bf26",
   "metadata": {},
   "outputs": [
    {
     "name": "stdout",
     "output_type": "stream",
     "text": [
      "['Python Tutorial for Beginners and much more.']\n"
     ]
    }
   ],
   "source": [
    "print(sent_tokenize(TEXT))"
   ]
  },
  {
   "cell_type": "code",
   "execution_count": 51,
   "id": "b34e6b22-b645-4d36-a2d7-e89ea3ca52be",
   "metadata": {},
   "outputs": [],
   "source": [
    "# sent_tokenize()"
   ]
  },
  {
   "cell_type": "code",
   "execution_count": 52,
   "id": "3c0550bd-e725-4227-97df-7e3cb1546976",
   "metadata": {},
   "outputs": [],
   "source": [
    "TEXT = \"Python99 is the site where you can find the best tutorials for Software Testing.\".split()"
   ]
  },
  {
   "cell_type": "code",
   "execution_count": 53,
   "id": "8ddb8586-96e6-46dc-a0eb-faa77c75b2ef",
   "metadata": {},
   "outputs": [],
   "source": [
    "# show split() text"
   ]
  },
  {
   "cell_type": "code",
   "execution_count": 54,
   "id": "bca1b171-4bd8-4427-b4f8-429a92f201db",
   "metadata": {},
   "outputs": [
    {
     "name": "stdout",
     "output_type": "stream",
     "text": [
      "After Split:  ['Python99', 'is', 'the', 'site', 'where', 'you', 'can', 'find', 'the', 'best', 'tutorials', 'for', 'Software', 'Testing.']\n"
     ]
    }
   ],
   "source": [
    "print(\"After Split: \", TEXT)"
   ]
  },
  {
   "cell_type": "code",
   "execution_count": 55,
   "id": "9ff278a9-40f9-46f2-be43-9266c5e10b4b",
   "metadata": {},
   "outputs": [],
   "source": [
    "# show split() text"
   ]
  },
  {
   "cell_type": "code",
   "execution_count": 56,
   "id": "87a2f16c-4fec-4ece-ba3d-11da4ad8df70",
   "metadata": {},
   "outputs": [],
   "source": [
    "tokens_tag = pos_tag(TEXT)"
   ]
  },
  {
   "cell_type": "code",
   "execution_count": 57,
   "id": "3d69c367-ec4f-45a1-9818-8e6440e4e92b",
   "metadata": {},
   "outputs": [],
   "source": [
    "# post_tag()"
   ]
  },
  {
   "cell_type": "code",
   "execution_count": 58,
   "id": "8d6871cf-2256-4d67-b337-689e33b86892",
   "metadata": {},
   "outputs": [
    {
     "name": "stdout",
     "output_type": "stream",
     "text": [
      "After Token: [('Python99', 'NNP'), ('is', 'VBZ'), ('the', 'DT'), ('site', 'NN'), ('where', 'WRB'), ('you', 'PRP'), ('can', 'MD'), ('find', 'VB'), ('the', 'DT'), ('best', 'JJS'), ('tutorials', 'NNS'), ('for', 'IN'), ('Software', 'NNP'), ('Testing.', 'NNP')]\n"
     ]
    }
   ],
   "source": [
    "print(\"After Token:\",tokens_tag)"
   ]
  },
  {
   "cell_type": "code",
   "execution_count": 59,
   "id": "6d45bb22-f12b-4c85-a3fc-c88dff71b688",
   "metadata": {},
   "outputs": [],
   "source": [
    "# post_tag()"
   ]
  },
  {
   "cell_type": "code",
   "execution_count": 60,
   "id": "02182872-743a-482f-97b8-84c3f2822774",
   "metadata": {},
   "outputs": [],
   "source": [
    "PATTERNS = \"\"\"mychunk:{<NN.?>*<VBD.?>*<JJ.?>*<CC>?}\"\"\""
   ]
  },
  {
   "cell_type": "code",
   "execution_count": 61,
   "id": "166acb6c-c69a-4745-8fa0-a5f65a6db461",
   "metadata": {},
   "outputs": [],
   "source": [
    "# patterns"
   ]
  },
  {
   "cell_type": "code",
   "execution_count": 62,
   "id": "7997b7c7-78f9-493b-8a32-05d60ecde2a1",
   "metadata": {},
   "outputs": [],
   "source": [
    "chunker = RegexpParser(PATTERNS)"
   ]
  },
  {
   "cell_type": "code",
   "execution_count": 63,
   "id": "4feabfa8-d111-405d-8b71-1f437cfce7d4",
   "metadata": {},
   "outputs": [],
   "source": [
    "# RegexpParser()"
   ]
  },
  {
   "cell_type": "code",
   "execution_count": 64,
   "id": "123131a3-31d2-4de7-9607-9636ed25bb01",
   "metadata": {},
   "outputs": [
    {
     "name": "stdout",
     "output_type": "stream",
     "text": [
      "After Regex: chunk.RegexpParser with 1 stages:\n",
      "RegexpChunkParser with 1 rules:\n",
      "       <ChunkRule: '<NN.?>*<VBD.?>*<JJ.?>*<CC>?'>\n"
     ]
    }
   ],
   "source": [
    "print(\"After Regex:\",chunker)"
   ]
  },
  {
   "cell_type": "code",
   "execution_count": 65,
   "id": "6a6633b5-1b48-4f2c-aa3f-9cc3b62cd15c",
   "metadata": {},
   "outputs": [],
   "source": [
    "# RegexpParser()"
   ]
  },
  {
   "cell_type": "code",
   "execution_count": 66,
   "id": "72b05f2f-8d92-446f-aef3-f34ef22294a0",
   "metadata": {},
   "outputs": [],
   "source": [
    "output = chunker.parse(tokens_tag)"
   ]
  },
  {
   "cell_type": "code",
   "execution_count": 67,
   "id": "ab78027d-361f-4460-815b-728e11a1739f",
   "metadata": {},
   "outputs": [],
   "source": [
    "# output"
   ]
  },
  {
   "cell_type": "code",
   "execution_count": 68,
   "id": "4586f0d5-641d-4628-903e-fd7a0fd75ac5",
   "metadata": {},
   "outputs": [
    {
     "name": "stdout",
     "output_type": "stream",
     "text": [
      "After Chunking (S\n",
      "  (mychunk Python99/NNP)\n",
      "  is/VBZ\n",
      "  the/DT\n",
      "  (mychunk site/NN)\n",
      "  where/WRB\n",
      "  you/PRP\n",
      "  can/MD\n",
      "  find/VB\n",
      "  the/DT\n",
      "  (mychunk best/JJS)\n",
      "  (mychunk tutorials/NNS)\n",
      "  for/IN\n",
      "  (mychunk Software/NNP Testing./NNP))\n"
     ]
    }
   ],
   "source": [
    "print(\"After Chunking\",output)"
   ]
  },
  {
   "cell_type": "code",
   "execution_count": 69,
   "id": "bc9ef0ea-aaa7-487c-8f70-9ef3d21921a6",
   "metadata": {},
   "outputs": [],
   "source": [
    "# output"
   ]
  },
  {
   "cell_type": "code",
   "execution_count": 70,
   "id": "bf497a00-e8a1-4a05-afb0-bd025a787960",
   "metadata": {},
   "outputs": [],
   "source": [
    "TEXT = \"Python99 is the site where you can find the best tutorials for Software Testing.\""
   ]
  },
  {
   "cell_type": "code",
   "execution_count": 71,
   "id": "e022afc1-b1ae-47a6-9121-96676f0b35a4",
   "metadata": {},
   "outputs": [],
   "source": [
    "# text"
   ]
  },
  {
   "cell_type": "code",
   "execution_count": 72,
   "id": "0f9e194a-12b6-4a84-bee0-6b1e3771a1f0",
   "metadata": {},
   "outputs": [],
   "source": [
    "tokens = nltk.word_tokenize(TEXT)"
   ]
  },
  {
   "cell_type": "code",
   "execution_count": 73,
   "id": "02d35786-c57b-4ed7-9704-58826783448f",
   "metadata": {},
   "outputs": [],
   "source": [
    "# nltk.word_tokenize()"
   ]
  },
  {
   "cell_type": "code",
   "execution_count": 74,
   "id": "a44c9817-3b65-44b2-aff0-335b9e053fd1",
   "metadata": {},
   "outputs": [
    {
     "name": "stdout",
     "output_type": "stream",
     "text": [
      "['Python99', 'is', 'the', 'site', 'where', 'you', 'can', 'find', 'the', 'best', 'tutorials', 'for', 'Software', 'Testing', '.']\n"
     ]
    }
   ],
   "source": [
    "print(tokens)"
   ]
  },
  {
   "cell_type": "code",
   "execution_count": 75,
   "id": "2063e6b8-4364-4732-908a-cffffbfc5867",
   "metadata": {},
   "outputs": [],
   "source": [
    "# nltk.word_tokenize()"
   ]
  },
  {
   "cell_type": "code",
   "execution_count": 76,
   "id": "9cce35a0-760a-4cd7-a4f0-5186dbc4927d",
   "metadata": {},
   "outputs": [],
   "source": [
    "tag = nltk.pos_tag(tokens)"
   ]
  },
  {
   "cell_type": "code",
   "execution_count": 77,
   "id": "0cefc0ab-520d-48ad-aec6-2b66a4e24ee6",
   "metadata": {},
   "outputs": [],
   "source": [
    "# nltk.pos_tag()"
   ]
  },
  {
   "cell_type": "code",
   "execution_count": 78,
   "id": "16b4f705-1fef-442c-b7aa-851e8943bae3",
   "metadata": {},
   "outputs": [
    {
     "name": "stdout",
     "output_type": "stream",
     "text": [
      "[('Python99', 'NNP'), ('is', 'VBZ'), ('the', 'DT'), ('site', 'NN'), ('where', 'WRB'), ('you', 'PRP'), ('can', 'MD'), ('find', 'VB'), ('the', 'DT'), ('best', 'JJS'), ('tutorials', 'NNS'), ('for', 'IN'), ('Software', 'NNP'), ('Testing', 'NNP'), ('.', '.')]\n"
     ]
    }
   ],
   "source": [
    "print(tag)"
   ]
  },
  {
   "cell_type": "code",
   "execution_count": 79,
   "id": "841fe9ab-29f5-4c66-a59b-466a5c5cd058",
   "metadata": {},
   "outputs": [],
   "source": [
    "# nltk.pos_tag()"
   ]
  },
  {
   "cell_type": "code",
   "execution_count": 80,
   "id": "a3f7d3ff-20ec-48cf-b589-3539b915c728",
   "metadata": {},
   "outputs": [],
   "source": [
    "GRAMMAR = \"NP: {<DT>?<JJ>*<NN>}\""
   ]
  },
  {
   "cell_type": "code",
   "execution_count": 81,
   "id": "b49f43c3-66d4-4fc2-824b-3de86576b42e",
   "metadata": {},
   "outputs": [],
   "source": [
    "# grammar"
   ]
  },
  {
   "cell_type": "code",
   "execution_count": 82,
   "id": "ac52439b-f8bb-462f-a322-a1313ec3767e",
   "metadata": {},
   "outputs": [],
   "source": [
    "cp  =nltk.RegexpParser(GRAMMAR)"
   ]
  },
  {
   "cell_type": "code",
   "execution_count": 83,
   "id": "c24f1b48-0544-49ef-96f2-98f44fc04738",
   "metadata": {},
   "outputs": [],
   "source": [
    "# nltk.RegexpParser()"
   ]
  },
  {
   "cell_type": "code",
   "execution_count": 84,
   "id": "56d72e9e-c0d1-4552-83cd-2cd9b0f1ca94",
   "metadata": {},
   "outputs": [],
   "source": [
    "result = cp.parse(tag)"
   ]
  },
  {
   "cell_type": "code",
   "execution_count": 85,
   "id": "c25865f6-730d-428b-aa2d-a4df9b694280",
   "metadata": {},
   "outputs": [],
   "source": [
    "# result"
   ]
  },
  {
   "cell_type": "code",
   "execution_count": 86,
   "id": "71bcd04d-ce06-4271-a3e6-855bde66b2cf",
   "metadata": {},
   "outputs": [
    {
     "name": "stdout",
     "output_type": "stream",
     "text": [
      "(S\n",
      "  Python99/NNP\n",
      "  is/VBZ\n",
      "  (NP the/DT site/NN)\n",
      "  where/WRB\n",
      "  you/PRP\n",
      "  can/MD\n",
      "  find/VB\n",
      "  the/DT\n",
      "  best/JJS\n",
      "  tutorials/NNS\n",
      "  for/IN\n",
      "  Software/NNP\n",
      "  Testing/NNP\n",
      "  ./.)\n"
     ]
    }
   ],
   "source": [
    "print(result)"
   ]
  },
  {
   "cell_type": "code",
   "execution_count": 87,
   "id": "9db7829b-bf7b-4d05-a67f-e05ed3b62358",
   "metadata": {},
   "outputs": [],
   "source": [
    "# result"
   ]
  },
  {
   "cell_type": "code",
   "execution_count": 88,
   "id": "b8e0c4a5-babe-41a3-a930-96c323445ba1",
   "metadata": {},
   "outputs": [],
   "source": [
    "ps =PorterStemmer()"
   ]
  },
  {
   "cell_type": "code",
   "execution_count": 89,
   "id": "c68aab8e-3872-430b-be86-d822064049b7",
   "metadata": {},
   "outputs": [],
   "source": [
    "# PorterStemmer()"
   ]
  },
  {
   "cell_type": "code",
   "execution_count": 90,
   "id": "39646aa3-6dfe-48c5-a216-9d8de6221a1c",
   "metadata": {},
   "outputs": [],
   "source": [
    "e_words = [\"python\", \"PYTHON\", \"Python\"]"
   ]
  },
  {
   "cell_type": "code",
   "execution_count": 91,
   "id": "f672f31d-8781-4dd3-9627-659a4711d5b3",
   "metadata": {},
   "outputs": [],
   "source": [
    "# e_words"
   ]
  },
  {
   "cell_type": "code",
   "execution_count": 92,
   "id": "e4b412a4-d41f-4ab1-8d56-a6c4ef449376",
   "metadata": {},
   "outputs": [
    {
     "name": "stdout",
     "output_type": "stream",
     "text": [
      "python\n",
      "python\n",
      "python\n"
     ]
    }
   ],
   "source": [
    "for w in e_words:\n",
    "    rootWord=ps.stem(w)\n",
    "    print(rootWord)"
   ]
  },
  {
   "cell_type": "code",
   "execution_count": 93,
   "id": "087b8fa6-ab16-4967-8f61-80db08e549d1",
   "metadata": {},
   "outputs": [],
   "source": [
    "# for w in e_words"
   ]
  },
  {
   "cell_type": "code",
   "execution_count": 94,
   "id": "9f8d4099-12fa-431d-b891-c5815333af37",
   "metadata": {},
   "outputs": [],
   "source": [
    "SENTENCE = \"Python99 is the site where you can find the best tutorials for Software Testing.\""
   ]
  },
  {
   "cell_type": "code",
   "execution_count": 95,
   "id": "3d9619ac-57fc-40ea-b527-a99ef8326397",
   "metadata": {},
   "outputs": [],
   "source": [
    "# text"
   ]
  },
  {
   "cell_type": "code",
   "execution_count": 96,
   "id": "465b2e5e-3e0b-425f-bfb1-20bfcafebad4",
   "metadata": {},
   "outputs": [],
   "source": [
    "words = word_tokenize(SENTENCE)"
   ]
  },
  {
   "cell_type": "code",
   "execution_count": 97,
   "id": "4202559d-ab95-4c60-ba1f-29456ffc54c8",
   "metadata": {},
   "outputs": [],
   "source": [
    "# word_tokenize()"
   ]
  },
  {
   "cell_type": "code",
   "execution_count": 98,
   "id": "f4ea7409-6cc9-4481-a67b-92a18b2ef8cb",
   "metadata": {},
   "outputs": [],
   "source": [
    "ps = PorterStemmer()"
   ]
  },
  {
   "cell_type": "code",
   "execution_count": 99,
   "id": "a7da6d17-b7ce-40b9-8427-7950e991a78c",
   "metadata": {},
   "outputs": [],
   "source": [
    "# PorterStemmer()"
   ]
  },
  {
   "cell_type": "code",
   "execution_count": 100,
   "id": "41d9cc1e-d9e0-4439-8df3-2e4f778c8cdd",
   "metadata": {},
   "outputs": [
    {
     "name": "stdout",
     "output_type": "stream",
     "text": [
      "python99\n",
      "is\n",
      "the\n",
      "site\n",
      "where\n",
      "you\n",
      "can\n",
      "find\n",
      "the\n",
      "best\n",
      "tutori\n",
      "for\n",
      "softwar\n",
      "test\n",
      ".\n"
     ]
    }
   ],
   "source": [
    "for w in words:\n",
    "    rootWord = ps.stem(w)\n",
    "    print(rootWord)"
   ]
  },
  {
   "cell_type": "code",
   "execution_count": 101,
   "id": "de311548-eccc-4e0d-a249-6007889ac528",
   "metadata": {},
   "outputs": [],
   "source": [
    "# for w in words"
   ]
  },
  {
   "cell_type": "code",
   "execution_count": 102,
   "id": "f38cd03c-39ca-4bed-9de0-f38f1637e4e3",
   "metadata": {},
   "outputs": [],
   "source": [
    "porter_stemmer  = PorterStemmer()"
   ]
  },
  {
   "cell_type": "code",
   "execution_count": 103,
   "id": "5653d411-6fe6-4402-baaf-aba5fdfcf186",
   "metadata": {},
   "outputs": [],
   "source": [
    "# PorterStemmer()"
   ]
  },
  {
   "cell_type": "code",
   "execution_count": 104,
   "id": "cae26f10-b0dc-4810-9509-e40de2b0e2eb",
   "metadata": {},
   "outputs": [],
   "source": [
    "TEXT = \"Tutorial, Courses for Beginners.\""
   ]
  },
  {
   "cell_type": "code",
   "execution_count": 105,
   "id": "ad312ea5-c024-4d00-b2a7-06365df7ec00",
   "metadata": {},
   "outputs": [],
   "source": [
    "# text"
   ]
  },
  {
   "cell_type": "code",
   "execution_count": 106,
   "id": "f6d6a598-fa7f-4128-832f-1f86017b80d5",
   "metadata": {},
   "outputs": [],
   "source": [
    "tokenization = nltk.word_tokenize(TEXT)"
   ]
  },
  {
   "cell_type": "code",
   "execution_count": 107,
   "id": "05ab8eec-f50a-4b91-9fe1-cb9a128dda9b",
   "metadata": {},
   "outputs": [],
   "source": [
    "# nltk.word_tokenize()"
   ]
  },
  {
   "cell_type": "code",
   "execution_count": 108,
   "id": "c457513f-0221-4019-a6e7-da545bbb1ec0",
   "metadata": {},
   "outputs": [
    {
     "name": "stdout",
     "output_type": "stream",
     "text": [
      "Stemming for {} is {} Tutorial tutori\n",
      "Stemming for {} is {} , ,\n",
      "Stemming for {} is {} Courses cours\n",
      "Stemming for {} is {} for for\n",
      "Stemming for {} is {} Beginners beginn\n",
      "Stemming for {} is {} . .\n"
     ]
    }
   ],
   "source": [
    "for w in tokenization:\n",
    "    print(\"Stemming for {} is {}\", w, porter_stemmer.stem(w))"
   ]
  },
  {
   "cell_type": "code",
   "execution_count": 109,
   "id": "3a51ff92-da6c-49ac-af6c-ee6966a2fd9b",
   "metadata": {},
   "outputs": [],
   "source": [
    "# for w in tokenization"
   ]
  },
  {
   "cell_type": "code",
   "execution_count": 110,
   "id": "af6aadd1-3e52-4159-a748-cf4754be35f6",
   "metadata": {},
   "outputs": [],
   "source": [
    "wordnet_lemmatizer = WordNetLemmatizer()"
   ]
  },
  {
   "cell_type": "code",
   "execution_count": 111,
   "id": "389634af-b2bd-44c3-aa62-524c45a08aca",
   "metadata": {},
   "outputs": [],
   "source": [
    "# WordNetLemmatizer()"
   ]
  },
  {
   "cell_type": "code",
   "execution_count": 112,
   "id": "7b453cda-3f66-4581-ba89-d5572100647f",
   "metadata": {},
   "outputs": [],
   "source": [
    "TEXT = \"Python Tutorial for Beginners and much more.\""
   ]
  },
  {
   "cell_type": "code",
   "execution_count": 113,
   "id": "867e1ae2-ba9e-4cde-8ec9-8586635f2623",
   "metadata": {},
   "outputs": [],
   "source": [
    "# text"
   ]
  },
  {
   "cell_type": "code",
   "execution_count": 114,
   "id": "ae0ab702-b4fb-480a-95e1-6e4554a0d5a0",
   "metadata": {},
   "outputs": [],
   "source": [
    "tokenization = nltk.word_tokenize(TEXT)"
   ]
  },
  {
   "cell_type": "code",
   "execution_count": 115,
   "id": "f8fcb356-0ff6-4a6b-bb23-8220535761c7",
   "metadata": {},
   "outputs": [],
   "source": [
    "# nltk.word_tokenize()"
   ]
  },
  {
   "cell_type": "code",
   "execution_count": 116,
   "id": "c3d715c7-681e-465b-b01f-8ca8aa7c6a19",
   "metadata": {},
   "outputs": [
    {
     "name": "stdout",
     "output_type": "stream",
     "text": [
      "Lemma for {} is {} Python Python\n",
      "Lemma for {} is {} Tutorial Tutorial\n",
      "Lemma for {} is {} for for\n",
      "Lemma for {} is {} Beginners Beginners\n",
      "Lemma for {} is {} and and\n",
      "Lemma for {} is {} much much\n",
      "Lemma for {} is {} more more\n",
      "Lemma for {} is {} . .\n"
     ]
    }
   ],
   "source": [
    "for w in tokenization:\n",
    "    print(\"Lemma for {} is {}\", w, wordnet_lemmatizer.lemmatize(w))"
   ]
  },
  {
   "cell_type": "code",
   "execution_count": 117,
   "id": "086a0574-e1a8-4b60-9098-c17f329358e4",
   "metadata": {},
   "outputs": [],
   "source": [
    "# for w in tokenization"
   ]
  },
  {
   "cell_type": "code",
   "execution_count": 118,
   "id": "4d457a7e-14ff-43e7-90f8-39150033290c",
   "metadata": {},
   "outputs": [],
   "source": [
    "tag_map = defaultdict(lambda : wn.NOUN)"
   ]
  },
  {
   "cell_type": "code",
   "execution_count": 119,
   "id": "3ddc542d-fe13-43c0-929a-c8924a6e90f5",
   "metadata": {},
   "outputs": [],
   "source": [
    "# defaultdict()"
   ]
  },
  {
   "cell_type": "code",
   "execution_count": 120,
   "id": "ad59b6b2-7ff4-45ff-a4ca-668d8c556608",
   "metadata": {},
   "outputs": [],
   "source": [
    "tag_map['J'] = wn.ADJ"
   ]
  },
  {
   "cell_type": "code",
   "execution_count": 121,
   "id": "41ecf170-5ac1-4627-8ece-4e8e0a7493c7",
   "metadata": {},
   "outputs": [],
   "source": [
    "# wn.ADJ"
   ]
  },
  {
   "cell_type": "code",
   "execution_count": 122,
   "id": "e4e275e2-e7d8-4fb3-9111-2621f5baa4cf",
   "metadata": {},
   "outputs": [],
   "source": [
    "tag_map['V'] = wn.VERB"
   ]
  },
  {
   "cell_type": "code",
   "execution_count": 123,
   "id": "6a52e891-eea6-40cb-89a6-12e392fa083a",
   "metadata": {},
   "outputs": [],
   "source": [
    "# wn.VERB"
   ]
  },
  {
   "cell_type": "code",
   "execution_count": 124,
   "id": "aec7a8d6-e1af-419f-aac2-edbdd3be5026",
   "metadata": {},
   "outputs": [],
   "source": [
    "tag_map['R'] = wn.ADV"
   ]
  },
  {
   "cell_type": "code",
   "execution_count": 125,
   "id": "07e93e14-7308-49f3-940d-840969b100fb",
   "metadata": {},
   "outputs": [],
   "source": [
    "# wn.ADV"
   ]
  },
  {
   "cell_type": "code",
   "execution_count": 126,
   "id": "05953a7c-e162-4825-9166-6be5921038ed",
   "metadata": {},
   "outputs": [],
   "source": [
    "TEXT = \"Python99 is the site where you can find the best tutorials for Software Testing.\""
   ]
  },
  {
   "cell_type": "code",
   "execution_count": 127,
   "id": "973aa2d0-83a5-4b25-b4f8-ddd4fb9ce689",
   "metadata": {},
   "outputs": [],
   "source": [
    "# text"
   ]
  },
  {
   "cell_type": "code",
   "execution_count": 128,
   "id": "06ab6e6f-3011-4585-a5ff-614e54de50b0",
   "metadata": {},
   "outputs": [],
   "source": [
    "tokens = word_tokenize(TEXT)"
   ]
  },
  {
   "cell_type": "code",
   "execution_count": 129,
   "id": "0531ae60-0ccf-4300-8c8c-5abd23165ce7",
   "metadata": {},
   "outputs": [],
   "source": [
    "# word_tokenize()"
   ]
  },
  {
   "cell_type": "code",
   "execution_count": 130,
   "id": "4c5ac5cb-6944-4e07-8901-0a51260489f4",
   "metadata": {},
   "outputs": [],
   "source": [
    "lemma_function = WordNetLemmatizer()"
   ]
  },
  {
   "cell_type": "code",
   "execution_count": 131,
   "id": "7fc95673-6767-4832-8620-a1d0ccfe89a4",
   "metadata": {},
   "outputs": [],
   "source": [
    "# WordNetLemmatizer()"
   ]
  },
  {
   "cell_type": "code",
   "execution_count": 132,
   "id": "fc3a9dfd-0b7f-4391-98fd-4222fd4a4528",
   "metadata": {},
   "outputs": [
    {
     "name": "stdout",
     "output_type": "stream",
     "text": [
      "Python99 => Python99\n",
      "is => be\n",
      "the => the\n",
      "site => site\n",
      "where => where\n",
      "you => you\n",
      "can => can\n",
      "find => find\n",
      "the => the\n",
      "best => best\n",
      "tutorials => tutorial\n",
      "for => for\n",
      "Software => Software\n",
      "Testing => Testing\n",
      ". => .\n"
     ]
    }
   ],
   "source": [
    "for token, tag in pos_tag(tokens):\n",
    "    lemma = lemma_function.lemmatize(token, tag_map[tag[0]])\n",
    "    print(token, \"=>\", lemma)"
   ]
  },
  {
   "cell_type": "code",
   "execution_count": 133,
   "id": "e27bfafb-67f8-40a9-b926-170b9012d431",
   "metadata": {},
   "outputs": [],
   "source": [
    "# for token, tag in pos_tag(tokens)"
   ]
  },
  {
   "cell_type": "code",
   "execution_count": 134,
   "id": "0ace3c02-451b-4bf1-adbf-57ad3f4b9c27",
   "metadata": {},
   "outputs": [],
   "source": [
    "syns = wn.synsets(\"dog\")"
   ]
  },
  {
   "cell_type": "code",
   "execution_count": 135,
   "id": "1edca513-88a0-4da1-aa4b-9add7692f6b1",
   "metadata": {},
   "outputs": [],
   "source": [
    "# wn.synsets()"
   ]
  },
  {
   "cell_type": "code",
   "execution_count": 136,
   "id": "b85d6c23-9937-4772-87d9-3549fc0fdd03",
   "metadata": {},
   "outputs": [
    {
     "name": "stdout",
     "output_type": "stream",
     "text": [
      "[Synset('dog.n.01'), Synset('frump.n.01'), Synset('dog.n.03'), Synset('cad.n.01'), Synset('frank.n.02'), Synset('pawl.n.01'), Synset('andiron.n.01'), Synset('chase.v.01')]\n"
     ]
    }
   ],
   "source": [
    "print(syns)"
   ]
  },
  {
   "cell_type": "code",
   "execution_count": 137,
   "id": "58eb35b4-8fb9-4414-912b-93c07e22d67d",
   "metadata": {},
   "outputs": [],
   "source": [
    "# wn.synsets()"
   ]
  },
  {
   "cell_type": "code",
   "execution_count": 138,
   "id": "476f6e83-a0e8-4a48-af33-e807d6cdea77",
   "metadata": {},
   "outputs": [],
   "source": [
    "synonyms = []"
   ]
  },
  {
   "cell_type": "code",
   "execution_count": 139,
   "id": "895e4e4c-11cd-45f9-a449-1bfe5b2fc68a",
   "metadata": {},
   "outputs": [],
   "source": [
    "# synonyms"
   ]
  },
  {
   "cell_type": "code",
   "execution_count": 140,
   "id": "b09b36fe-b9df-4128-affb-9cd79dd0d472",
   "metadata": {},
   "outputs": [],
   "source": [
    "antonyms = []"
   ]
  },
  {
   "cell_type": "code",
   "execution_count": 141,
   "id": "a16a96cd-5357-4617-94af-e9bc9ac12d51",
   "metadata": {},
   "outputs": [],
   "source": [
    "# antonyms"
   ]
  },
  {
   "cell_type": "code",
   "execution_count": 142,
   "id": "93c77bb9-d774-43dc-a25c-af7cd9ca4613",
   "metadata": {},
   "outputs": [
    {
     "name": "stdout",
     "output_type": "stream",
     "text": [
      "{'active', 'active_agent', 'active_voice'}\n",
      "{'passive_voice'}\n",
      "{'active', 'active_agent', 'active_voice'}\n",
      "{'inactive', 'passive_voice'}\n",
      "{'combat-ready', 'fighting', 'active_voice', 'active_agent', 'active'}\n",
      "{'passive', 'inactive', 'passive_voice'}\n",
      "{'combat-ready', 'fighting', 'active_voice', 'active_agent', 'active', 'participating'}\n",
      "{'passive', 'inactive', 'passive_voice'}\n",
      "{'combat-ready', 'fighting', 'active_voice', 'active_agent', 'active', 'participating'}\n",
      "{'passive', 'inactive', 'passive_voice'}\n",
      "{'combat-ready', 'fighting', 'active_voice', 'active_agent', 'active', 'participating'}\n",
      "{'passive', 'inactive', 'passive_voice'}\n",
      "{'combat-ready', 'fighting', 'active_voice', 'active_agent', 'active', 'alive', 'participating'}\n",
      "{'passive', 'inactive', 'quiet', 'passive_voice'}\n",
      "{'combat-ready', 'fighting', 'active_voice', 'active_agent', 'active', 'alive', 'participating'}\n",
      "{'passive', 'inactive', 'quiet', 'passive_voice'}\n",
      "{'combat-ready', 'fighting', 'active_voice', 'active_agent', 'active', 'alive', 'participating'}\n",
      "{'stative', 'passive_voice', 'inactive', 'passive', 'quiet'}\n",
      "{'combat-ready', 'fighting', 'active_voice', 'dynamic', 'active_agent', 'active', 'alive', 'participating'}\n",
      "{'stative', 'passive_voice', 'inactive', 'passive', 'extinct', 'quiet'}\n",
      "{'combat-ready', 'fighting', 'active_voice', 'dynamic', 'active_agent', 'active', 'alive', 'participating'}\n",
      "{'stative', 'passive_voice', 'dormant', 'inactive', 'passive', 'extinct', 'quiet'}\n",
      "{'combat-ready', 'fighting', 'active_voice', 'dynamic', 'active_agent', 'active', 'alive', 'participating'}\n",
      "{'stative', 'passive_voice', 'dormant', 'inactive', 'passive', 'extinct', 'quiet'}\n"
     ]
    }
   ],
   "source": [
    "for syn in wn.synsets(\"active\"):\n",
    "    for l in syn.lemmas():\n",
    "        synonyms.append(l.name())\n",
    "        if l.antonyms():\n",
    "            antonyms.append(l.antonyms()[0].name())\n",
    "            print(set(synonyms))\n",
    "            print(set(antonyms))"
   ]
  },
  {
   "cell_type": "code",
   "execution_count": 143,
   "id": "d1191ffd-9bcf-486c-b821-19d55ca277c0",
   "metadata": {},
   "outputs": [],
   "source": [
    "# for syn in wn.synsets(\"active\")"
   ]
  },
  {
   "cell_type": "code",
   "execution_count": 144,
   "id": "d26cc8cc-cc79-4558-a6b4-bf9d8a99c0ae",
   "metadata": {},
   "outputs": [],
   "source": [
    "TEXT = \"Tutorial, Courses for Beginners.\""
   ]
  },
  {
   "cell_type": "code",
   "execution_count": 145,
   "id": "d3861d08-b4b5-45ef-b089-856027907dc8",
   "metadata": {},
   "outputs": [],
   "source": [
    "# text"
   ]
  },
  {
   "cell_type": "code",
   "execution_count": 146,
   "id": "fe33f147-e4f2-430d-9f4f-253c7a8567d8",
   "metadata": {},
   "outputs": [],
   "source": [
    "sentence = nltk.sent_tokenize(TEXT)"
   ]
  },
  {
   "cell_type": "code",
   "execution_count": 147,
   "id": "8a87f68c-9d6a-4a5b-830e-37a339ff937e",
   "metadata": {},
   "outputs": [],
   "source": [
    "# nltk.sent_tokenize()"
   ]
  },
  {
   "cell_type": "code",
   "execution_count": 148,
   "id": "5503ff96-e566-4ec6-96ff-bd50c53c4574",
   "metadata": {},
   "outputs": [
    {
     "name": "stdout",
     "output_type": "stream",
     "text": [
      "[('Tutorial', 'NNP'), (',', ','), ('Courses', 'NNP'), ('for', 'IN'), ('Beginners', 'NNP'), ('.', '.')]\n"
     ]
    }
   ],
   "source": [
    "for sent in sentence:\n",
    "    print(nltk.pos_tag(nltk.word_tokenize(sent)))"
   ]
  },
  {
   "cell_type": "code",
   "execution_count": 149,
   "id": "a3552b37-2a6e-4943-9baf-62800d9b4043",
   "metadata": {},
   "outputs": [],
   "source": [
    "# for sent in sentence"
   ]
  },
  {
   "cell_type": "code",
   "execution_count": 150,
   "id": "09ef232e-9204-4092-b464-027d2e6db16b",
   "metadata": {},
   "outputs": [],
   "source": [
    "TEXT = \"Python Tutorial for Beginners and much more.\""
   ]
  },
  {
   "cell_type": "code",
   "execution_count": 151,
   "id": "eafeec08-f76d-42e2-a326-0dfda3825279",
   "metadata": {},
   "outputs": [],
   "source": [
    "# text"
   ]
  },
  {
   "cell_type": "code",
   "execution_count": 152,
   "id": "630e0d78-b303-490b-9f59-4333faa58f8f",
   "metadata": {},
   "outputs": [],
   "source": [
    "LOWER_CASE = TEXT.lower()"
   ]
  },
  {
   "cell_type": "code",
   "execution_count": 153,
   "id": "ac5b5069-a8ba-4b95-be3e-a038e9bf3eaa",
   "metadata": {},
   "outputs": [],
   "source": [
    "# text.lower()"
   ]
  },
  {
   "cell_type": "code",
   "execution_count": 154,
   "id": "c8cf2762-1e15-4836-85e5-290b042819b4",
   "metadata": {},
   "outputs": [],
   "source": [
    "tokens = nltk.word_tokenize(LOWER_CASE)"
   ]
  },
  {
   "cell_type": "code",
   "execution_count": 155,
   "id": "4ebd08d1-3774-4046-aa84-4d6544a837fe",
   "metadata": {},
   "outputs": [],
   "source": [
    "# nltk.word_tokenize()"
   ]
  },
  {
   "cell_type": "code",
   "execution_count": 156,
   "id": "91ea6a54-e92c-4bef-b5e7-0b95389adcfa",
   "metadata": {},
   "outputs": [],
   "source": [
    "tags = nltk.pos_tag(tokens)"
   ]
  },
  {
   "cell_type": "code",
   "execution_count": 157,
   "id": "b28a068e-ba67-426a-9585-6bdd6355babc",
   "metadata": {},
   "outputs": [],
   "source": [
    "# nltk.pos_tag()"
   ]
  },
  {
   "cell_type": "code",
   "execution_count": 158,
   "id": "7224cf90-b4fc-4d7c-9b59-4e7bf9c580e8",
   "metadata": {},
   "outputs": [],
   "source": [
    "counts = Counter( tag for word,  tag in tags)"
   ]
  },
  {
   "cell_type": "code",
   "execution_count": 159,
   "id": "2d85d241-6734-4ef4-90f2-76bbbd0f8a62",
   "metadata": {},
   "outputs": [],
   "source": [
    "# Counter()"
   ]
  },
  {
   "cell_type": "code",
   "execution_count": 160,
   "id": "61d318ee-9e3c-4c51-8386-d0ecc724c310",
   "metadata": {},
   "outputs": [
    {
     "name": "stdout",
     "output_type": "stream",
     "text": [
      "Counter({'NN': 2, 'IN': 1, 'NNS': 1, 'CC': 1, 'RB': 1, 'RBR': 1, '.': 1})\n"
     ]
    }
   ],
   "source": [
    "print(counts)"
   ]
  },
  {
   "cell_type": "code",
   "execution_count": 161,
   "id": "d109df37-1eb4-43b1-a9e4-ec0e9c0e555a",
   "metadata": {},
   "outputs": [],
   "source": [
    "# Counter()"
   ]
  },
  {
   "cell_type": "code",
   "execution_count": 162,
   "id": "af4390f6-c75f-45f8-9071-9e82750ad654",
   "metadata": {},
   "outputs": [],
   "source": [
    "A = (\"Python99 is the site where you can find the best tutorials for Software Testing.\"\n",
    "    \"Tutorial, Courses for Beginners.\"\n",
    "    \"Python Tutorial for Beginners and much more.\")"
   ]
  },
  {
   "cell_type": "code",
   "execution_count": 163,
   "id": "eb2fec40-0b58-4748-8629-6d2f4b8c8559",
   "metadata": {},
   "outputs": [],
   "source": [
    "# text"
   ]
  },
  {
   "cell_type": "code",
   "execution_count": 164,
   "id": "9c690e3e-43bb-480b-a625-c429897dfce0",
   "metadata": {},
   "outputs": [],
   "source": [
    "words = nltk.tokenize.word_tokenize(A)"
   ]
  },
  {
   "cell_type": "code",
   "execution_count": 165,
   "id": "ac1ad75d-5a74-41b4-a4c7-5089a704a9fb",
   "metadata": {},
   "outputs": [],
   "source": [
    "# nltk.tokenize.word_tokenize()"
   ]
  },
  {
   "cell_type": "code",
   "execution_count": 166,
   "id": "5875f67d-f946-4d44-99e6-4a0126e95498",
   "metadata": {},
   "outputs": [],
   "source": [
    "fd = nltk.FreqDist(words)"
   ]
  },
  {
   "cell_type": "code",
   "execution_count": 167,
   "id": "1a5d9d85-19c9-4bfe-a2aa-4e5411d195f7",
   "metadata": {},
   "outputs": [],
   "source": [
    "# nltk.FreqDist()"
   ]
  },
  {
   "cell_type": "code",
   "execution_count": 168,
   "id": "2a0dfcfa-9c97-45ab-9397-b2411d5ce8a8",
   "metadata": {},
   "outputs": [],
   "source": [
    "TEXT = \"Python99 is the site where you can find the best tutorials for Software Testing.\""
   ]
  },
  {
   "cell_type": "code",
   "execution_count": 169,
   "id": "d6c0c9ac-0cd4-4b83-99cd-8bb383c2dc8c",
   "metadata": {},
   "outputs": [],
   "source": [
    "# text"
   ]
  },
  {
   "cell_type": "code",
   "execution_count": 170,
   "id": "d26fd0d9-c4ad-4c08-a583-e67a7675e8c9",
   "metadata": {},
   "outputs": [],
   "source": [
    "Tokens = nltk.word_tokenize(TEXT)"
   ]
  },
  {
   "cell_type": "code",
   "execution_count": 171,
   "id": "0f0ad834-b500-427c-adae-d80caf00cfd4",
   "metadata": {},
   "outputs": [],
   "source": [
    "# nltk.word_tokenize()"
   ]
  },
  {
   "cell_type": "code",
   "execution_count": 172,
   "id": "bc806bd4-f91c-4926-b490-b7391d090646",
   "metadata": {},
   "outputs": [],
   "source": [
    "output = list(nltk.bigrams(Tokens))"
   ]
  },
  {
   "cell_type": "code",
   "execution_count": 173,
   "id": "d810965e-8d40-428e-a604-c79a945d5c02",
   "metadata": {},
   "outputs": [],
   "source": [
    "# list(nltk.bigrams())"
   ]
  },
  {
   "cell_type": "code",
   "execution_count": 174,
   "id": "49338374-c18a-40a6-9031-a74ba93457d3",
   "metadata": {},
   "outputs": [
    {
     "name": "stdout",
     "output_type": "stream",
     "text": [
      "[('Python99', 'is'), ('is', 'the'), ('the', 'site'), ('site', 'where'), ('where', 'you'), ('you', 'can'), ('can', 'find'), ('find', 'the'), ('the', 'best'), ('best', 'tutorials'), ('tutorials', 'for'), ('for', 'Software'), ('Software', 'Testing'), ('Testing', '.')]\n"
     ]
    }
   ],
   "source": [
    "print(output)"
   ]
  },
  {
   "cell_type": "code",
   "execution_count": 175,
   "id": "275158fe-1ed6-43f6-9cf4-5b3943036979",
   "metadata": {},
   "outputs": [],
   "source": [
    "# list(nltk.bigrams())"
   ]
  },
  {
   "cell_type": "code",
   "execution_count": 176,
   "id": "84c62768-6abe-48ea-a1b3-7d6a59c63773",
   "metadata": {},
   "outputs": [],
   "source": [
    "output = list(nltk.trigrams(Tokens))"
   ]
  },
  {
   "cell_type": "code",
   "execution_count": 177,
   "id": "15b3e070-d03d-45fa-ac4a-402658008cee",
   "metadata": {},
   "outputs": [],
   "source": [
    "# list(nltk.trigrams())"
   ]
  },
  {
   "cell_type": "code",
   "execution_count": 178,
   "id": "1a75a895-445f-4516-b2dd-5237578a8934",
   "metadata": {},
   "outputs": [
    {
     "name": "stdout",
     "output_type": "stream",
     "text": [
      "[('Python99', 'is', 'the'), ('is', 'the', 'site'), ('the', 'site', 'where'), ('site', 'where', 'you'), ('where', 'you', 'can'), ('you', 'can', 'find'), ('can', 'find', 'the'), ('find', 'the', 'best'), ('the', 'best', 'tutorials'), ('best', 'tutorials', 'for'), ('tutorials', 'for', 'Software'), ('for', 'Software', 'Testing'), ('Software', 'Testing', '.')]\n"
     ]
    }
   ],
   "source": [
    "print(output)"
   ]
  },
  {
   "cell_type": "code",
   "execution_count": 179,
   "id": "6266596c-381f-42ed-9f3f-2681f8600ee9",
   "metadata": {},
   "outputs": [],
   "source": [
    "# list(nltk.trigrams())"
   ]
  },
  {
   "cell_type": "code",
   "execution_count": 180,
   "id": "8d6bc1fd-5d69-431e-a823-9598842b0799",
   "metadata": {},
   "outputs": [],
   "source": [
    "vectorizer = CountVectorizer()"
   ]
  },
  {
   "cell_type": "code",
   "execution_count": 181,
   "id": "101dcceb-d135-4038-9262-270999484bc1",
   "metadata": {},
   "outputs": [],
   "source": [
    "# CountVectorizer()"
   ]
  },
  {
   "cell_type": "code",
   "execution_count": 182,
   "id": "337aabe3-2baf-4810-bcef-5bd85e978a52",
   "metadata": {},
   "outputs": [],
   "source": [
    "data_corpus = [\"Python99 is the site where you can find the best tutorials for Software Testing.\"\n",
    "                   \"Tutorial, Courses for Beginners.\"\n",
    "    \"Python Tutorial for Beginners and much more.\"]"
   ]
  },
  {
   "cell_type": "code",
   "execution_count": 183,
   "id": "5512e4a3-50ac-49d3-be73-b8fbdc2b7816",
   "metadata": {},
   "outputs": [],
   "source": [
    "# data_corpus"
   ]
  },
  {
   "cell_type": "code",
   "execution_count": 184,
   "id": "a6d4c241-a696-4240-a0de-66ecd60b07de",
   "metadata": {},
   "outputs": [],
   "source": [
    "vocabulary = vectorizer.fit(data_corpus)"
   ]
  },
  {
   "cell_type": "code",
   "execution_count": 185,
   "id": "67e306a4-c452-42ae-b18a-53254ee4539e",
   "metadata": {},
   "outputs": [],
   "source": [
    "# vectorizer.fit(data_corpus)"
   ]
  },
  {
   "cell_type": "code",
   "execution_count": 186,
   "id": "4926c40c-c3bc-4c97-8f21-8f87aad98d08",
   "metadata": {},
   "outputs": [],
   "source": [
    "vocabulary = vectorizer.get_feature_names_out()"
   ]
  },
  {
   "cell_type": "code",
   "execution_count": 187,
   "id": "4d2e2230-04fc-460f-823a-7d2b11061650",
   "metadata": {},
   "outputs": [],
   "source": [
    "# vectorizer.get_feature_names_out()"
   ]
  },
  {
   "cell_type": "code",
   "execution_count": 188,
   "id": "d07eae2c-e8dd-4175-b23e-a047c10f198c",
   "metadata": {},
   "outputs": [],
   "source": [
    "X = vectorizer.transform(data_corpus)"
   ]
  },
  {
   "cell_type": "code",
   "execution_count": 189,
   "id": "8706a8f4-a34d-42cb-bfdb-6cef46929b1d",
   "metadata": {},
   "outputs": [],
   "source": [
    "# transform data_corpus"
   ]
  },
  {
   "cell_type": "code",
   "execution_count": 190,
   "id": "0420a327-f114-4fe1-8c5c-37423d21ec02",
   "metadata": {},
   "outputs": [
    {
     "name": "stdout",
     "output_type": "stream",
     "text": [
      "[[1 2 1 1 1 1 3 1 1 1 1 1 1 1 1 2 2 1 1 1]]\n"
     ]
    }
   ],
   "source": [
    "print(X.toarray())"
   ]
  },
  {
   "cell_type": "code",
   "execution_count": 191,
   "id": "caf5e6cc-6ecc-4133-a7b6-afc1d58aeb3d",
   "metadata": {},
   "outputs": [],
   "source": [
    "# X.toarray()"
   ]
  },
  {
   "cell_type": "code",
   "execution_count": 192,
   "id": "5b156289-deb3-4c14-baf1-f65034d1c3b8",
   "metadata": {},
   "outputs": [
    {
     "name": "stdout",
     "output_type": "stream",
     "text": [
      "['and' 'beginners' 'best' 'can' 'courses' 'find' 'for' 'is' 'more' 'much'\n",
      " 'python' 'python99' 'site' 'software' 'testing' 'the' 'tutorial'\n",
      " 'tutorials' 'where' 'you']\n"
     ]
    }
   ],
   "source": [
    "print(vocabulary)"
   ]
  },
  {
   "cell_type": "code",
   "execution_count": 193,
   "id": "f9ff3017-d4be-4672-8786-5c2f4e29b87a",
   "metadata": {},
   "outputs": [],
   "source": [
    "# vectorizer.get_feature_names_out()"
   ]
  },
  {
   "cell_type": "code",
   "execution_count": 194,
   "id": "4bb44b5c-f4b2-40aa-ac41-e45b898344c8",
   "metadata": {},
   "outputs": [],
   "source": [
    "model = gensim.models.Word2Vec(abc.sents())"
   ]
  },
  {
   "cell_type": "code",
   "execution_count": 195,
   "id": "852bd952-40c5-4450-95d0-531f94e822bf",
   "metadata": {},
   "outputs": [],
   "source": [
    "# gensim.models.Word2Vec(abc.sents())"
   ]
  },
  {
   "cell_type": "code",
   "execution_count": 196,
   "id": "f2ea961b-32fb-4671-8cdb-51818a575efe",
   "metadata": {},
   "outputs": [],
   "source": [
    "data = model.wv['language']"
   ]
  },
  {
   "cell_type": "code",
   "execution_count": 197,
   "id": "020bf27e-b55a-421d-8961-aab0cb3ae1ad",
   "metadata": {},
   "outputs": [],
   "source": [
    "# model.wv['language']"
   ]
  },
  {
   "cell_type": "code",
   "execution_count": 198,
   "id": "d8d0207d-426b-45d6-af39-c50a3ea04bfc",
   "metadata": {},
   "outputs": [
    {
     "name": "stdout",
     "output_type": "stream",
     "text": [
      "[-5.84218279e-02  4.39600833e-02 -2.54444592e-02  5.81066012e-02\n",
      "  1.67275339e-01 -2.60619760e-01  1.42354205e-01  2.06002906e-01\n",
      " -3.56460852e-03 -2.49418482e-01 -1.38032630e-01 -1.45408347e-01\n",
      " -3.21623683e-02 -7.15486556e-02  9.81786177e-02 -3.44357133e-01\n",
      "  1.01969496e-03 -3.73615354e-01  2.21230358e-01 -4.47769612e-01\n",
      "  1.03659645e-01  6.63952902e-02  4.13580388e-02  9.71417055e-02\n",
      " -9.85443667e-02 -1.00839645e-01 -1.32611990e-01 -1.07682645e-01\n",
      " -2.84265399e-01  6.04810473e-03  1.53369322e-01  1.04386955e-01\n",
      " -3.24077085e-02 -2.36321822e-01 -9.16953385e-02  2.89302588e-01\n",
      " -7.44142942e-03 -6.66334778e-02 -1.51634321e-01 -1.68544978e-01\n",
      " -8.93103257e-02  2.91781910e-02 -5.13422936e-02 -3.89080234e-02\n",
      "  3.27530175e-01  3.64906564e-02 -6.23533130e-03  4.11058255e-02\n",
      "  3.61150324e-01  1.61508232e-01 -6.84037730e-02 -2.88091272e-01\n",
      "  8.06880742e-03 -6.50058612e-02 -1.70543075e-01  4.17592488e-02\n",
      "  8.14893618e-02  6.43600523e-02 -3.09722751e-01 -2.43378300e-02\n",
      "  1.22458406e-01  1.02848187e-01  2.46830791e-01 -4.24102470e-02\n",
      " -8.81575495e-02  1.00951567e-01 -5.18325940e-02  2.73742318e-01\n",
      " -3.03032249e-01  2.12561294e-01 -1.32259220e-01  2.00194567e-01\n",
      "  2.72696137e-01 -1.94788557e-02  3.39050412e-01  6.56443909e-02\n",
      " -5.51221482e-02 -5.32766990e-02 -2.10526153e-01  3.45200486e-02\n",
      " -1.50698006e-01 -6.21035360e-02 -4.19920474e-01  4.29828912e-01\n",
      "  2.80434469e-04 -2.24985287e-01  1.15300961e-01  2.69683927e-01\n",
      "  2.12457150e-01  3.95999588e-02  2.53890455e-01  2.19213843e-01\n",
      "  2.15032876e-01  1.03547633e-01  4.46518123e-01  1.46876335e-01\n",
      " -1.44231161e-02 -2.40873486e-01  1.44975320e-01 -1.26820952e-01]\n"
     ]
    }
   ],
   "source": [
    "print(data)"
   ]
  },
  {
   "cell_type": "code",
   "execution_count": 199,
   "id": "665ef0cd-2a88-453f-b12f-18e278348d78",
   "metadata": {},
   "outputs": [],
   "source": [
    "# model.wv['language']"
   ]
  },
  {
   "cell_type": "code",
   "execution_count": 200,
   "id": "7f574e36-693e-4326-8c49-7d7d215ab557",
   "metadata": {},
   "outputs": [],
   "source": [
    "data = [\n",
    "    {\"tag1\": \"Python99 is the site where you can find the best tutorials for Software Testing.\"},\n",
    "    {\"tag2\": \"Tutorial, Courses for Beginners.\"},\n",
    "    {\"tag3\": \"Python Tutorial for Beginners and much more.\"},\n",
    "    ]"
   ]
  },
  {
   "cell_type": "code",
   "execution_count": 201,
   "id": "7417bd31-9549-4bd2-8c98-2ea54d5cc31d",
   "metadata": {},
   "outputs": [],
   "source": [
    "# data"
   ]
  },
  {
   "cell_type": "code",
   "execution_count": 202,
   "id": "038c6e58-3616-4bb2-a6f3-7d8a03191e29",
   "metadata": {},
   "outputs": [],
   "source": [
    "with open('intents.json', 'w') as file:\n",
    "    json.dump(data, file)"
   ]
  },
  {
   "cell_type": "code",
   "execution_count": 203,
   "id": "b2a34821-7834-4467-801a-87396ea08247",
   "metadata": {},
   "outputs": [],
   "source": [
    "# json.dump(data, file)"
   ]
  },
  {
   "cell_type": "code",
   "execution_count": 204,
   "id": "e2eed091-0268-43f7-bb08-0d28a241ddca",
   "metadata": {},
   "outputs": [],
   "source": [
    "JSON_FILE =\"intents.json\""
   ]
  },
  {
   "cell_type": "code",
   "execution_count": 205,
   "id": "20c900fe-85ca-4b44-93fd-094ab65226ed",
   "metadata": {},
   "outputs": [],
   "source": [
    "# \"intents.json\""
   ]
  },
  {
   "cell_type": "code",
   "execution_count": 206,
   "id": "2b31b668-e2e4-43a3-80d5-8dab9e79767d",
   "metadata": {},
   "outputs": [],
   "source": [
    "with open(\"intents.json\", \"br\") as file:\n",
    "    data = json.load(file)"
   ]
  },
  {
   "cell_type": "code",
   "execution_count": 207,
   "id": "a7a80da5-21b7-41de-b3d9-3759d50abcfd",
   "metadata": {},
   "outputs": [],
   "source": [
    "# download json.file"
   ]
  },
  {
   "cell_type": "code",
   "execution_count": 208,
   "id": "d44931d8-8105-405d-9aff-4d2bccc1c851",
   "metadata": {},
   "outputs": [],
   "source": [
    "df = pd.DataFrame(data)"
   ]
  },
  {
   "cell_type": "code",
   "execution_count": 209,
   "id": "11c43f42-c28e-40c0-af84-971772942ec2",
   "metadata": {},
   "outputs": [],
   "source": [
    "# pd.DataFrame()"
   ]
  },
  {
   "cell_type": "code",
   "execution_count": 210,
   "id": "6251966c-111d-4511-8c7d-2a707624d9b9",
   "metadata": {},
   "outputs": [],
   "source": [
    "df = df.join('')"
   ]
  },
  {
   "cell_type": "code",
   "execution_count": 211,
   "id": "00f400e2-fa39-45d8-81f6-0955e8cce795",
   "metadata": {},
   "outputs": [],
   "source": [
    "# df.join('')"
   ]
  },
  {
   "cell_type": "code",
   "execution_count": 212,
   "id": "d279a1fe-901a-47c8-ad07-84b33efb2be5",
   "metadata": {},
   "outputs": [],
   "source": [
    "stop = stopwords.words('english')"
   ]
  },
  {
   "cell_type": "code",
   "execution_count": 213,
   "id": "28e154b3-90ec-4007-9f4c-8562856c8ade",
   "metadata": {},
   "outputs": [],
   "source": [
    "# stopwords.words()"
   ]
  },
  {
   "cell_type": "code",
   "execution_count": 214,
   "id": "51ee0dfb-d01e-4b39-acc0-fad0814e4d06",
   "metadata": {},
   "outputs": [],
   "source": [
    "Bigger_list=[]"
   ]
  },
  {
   "cell_type": "code",
   "execution_count": 215,
   "id": "2838a1c5-3463-4684-afeb-036e90a1580c",
   "metadata": {},
   "outputs": [],
   "source": [
    "# Bigger_list"
   ]
  },
  {
   "cell_type": "code",
   "execution_count": 216,
   "id": "6987c6c8-f20f-49e0-bf87-579193bb3b5a",
   "metadata": {},
   "outputs": [
    {
     "name": "stdout",
     "output_type": "stream",
     "text": [
      "Data format for the overall list:  [['tag1'], ['tag2'], ['tag3']]\n"
     ]
    }
   ],
   "source": [
    "for i in df:\n",
    "    li = list(i.split(\" \"))\n",
    "    Bigger_list.append(li)\t\n",
    "print(\"Data format for the overall list: \", Bigger_list)"
   ]
  },
  {
   "cell_type": "code",
   "execution_count": 217,
   "id": "5e046e98-1f12-4b46-add3-ac290a054dd7",
   "metadata": {},
   "outputs": [],
   "source": [
    "# for i in df"
   ]
  },
  {
   "cell_type": "code",
   "execution_count": 218,
   "id": "c9db3937-f089-40c1-90cb-6b480ae6e28b",
   "metadata": {},
   "outputs": [],
   "source": [
    "model = Word2Vec(Bigger_list, min_count=1, vector_size=300, workers=4)"
   ]
  },
  {
   "cell_type": "code",
   "execution_count": 219,
   "id": "c94130cc-3e49-43d7-bf9f-0c83205c1dea",
   "metadata": {},
   "outputs": [],
   "source": [
    "# Word2Vec(Bigger_list, min_count=1, vector_size=300, workers=4)"
   ]
  },
  {
   "cell_type": "code",
   "execution_count": 220,
   "id": "15b7e6c2-75c9-4914-a4bb-90793867ce2c",
   "metadata": {},
   "outputs": [
    {
     "name": "stdout",
     "output_type": "stream",
     "text": [
      "Word2Vec<vocab=3, vector_size=300, alpha=0.025>\n"
     ]
    }
   ],
   "source": [
    "print(model)"
   ]
  },
  {
   "cell_type": "code",
   "execution_count": 221,
   "id": "e0ed3aef-6f2d-4d2b-b67e-9b4be8d29c45",
   "metadata": {},
   "outputs": [],
   "source": [
    "# Word2Vec"
   ]
  },
  {
   "cell_type": "code",
   "execution_count": 222,
   "id": "10111fb1-cefe-4f21-a1e9-ac0b7b2293d8",
   "metadata": {},
   "outputs": [],
   "source": [
    "model.save(\"word2vec.model\")"
   ]
  },
  {
   "cell_type": "code",
   "execution_count": 223,
   "id": "d13948c1-f131-43ad-93eb-35f666aa245c",
   "metadata": {},
   "outputs": [],
   "source": [
    "# model.save(word2vec.model)"
   ]
  },
  {
   "cell_type": "code",
   "execution_count": null,
   "id": "82f5bf43-f39b-40bf-b1b1-f3d7cbe3f1cb",
   "metadata": {},
   "outputs": [],
   "source": []
  }
 ],
 "metadata": {
  "kernelspec": {
   "display_name": "Python 3 (ipykernel)",
   "language": "python",
   "name": "python3"
  },
  "language_info": {
   "codemirror_mode": {
    "name": "ipython",
    "version": 3
   },
   "file_extension": ".py",
   "mimetype": "text/x-python",
   "name": "python",
   "nbconvert_exporter": "python",
   "pygments_lexer": "ipython3",
   "version": "3.10.12"
  }
 },
 "nbformat": 4,
 "nbformat_minor": 5
}
